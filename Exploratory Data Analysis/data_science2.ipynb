{
 "cells": [
  {
   "cell_type": "markdown",
   "metadata": {},
   "source": [
    "# Analysis of US Senator Tweets\n",
    "## This is part of a series of introductory data science projects in exploratory data analysis (EDA) which anyone who is a beginner in the field can follow along!"
   ]
  },
  {
   "cell_type": "markdown",
   "metadata": {},
   "source": [
    "We first start by importing the needed libraries, and modules:"
   ]
  },
  {
   "cell_type": "code",
   "execution_count": 145,
   "metadata": {},
   "outputs": [],
   "source": [
    "import numpy as np\n",
    "import pandas as pd\n",
    "import seaborn as sns\n",
    "import matplotlib.pyplot as plt\n",
    "from datetime import datetime\n",
    "sns.set(style=\"white\")"
   ]
  },
  {
   "cell_type": "markdown",
   "metadata": {},
   "source": [
    "I got my dataset from Kaggle. In order to receive the same dataset, you have to create an account on Kaggle, pick and dowload your desired dataset, then proceed with the commands below. Keep in mind that when you do od.download() it will ask you for your Kaggle username and a token you can get through your Kaggle account. On your profile page, press Account, then press Create New API Token. This will download a json file. Open it and copy the API Token from it. The link that goes in the od.download() is the link on the Kaggle site where you found your dataset."
   ]
  },
  {
   "cell_type": "code",
   "execution_count": 149,
   "metadata": {},
   "outputs": [],
   "source": [
    "import opendatasets as od"
   ]
  },
  {
   "cell_type": "code",
   "execution_count": 150,
   "metadata": {},
   "outputs": [
    {
     "name": "stdout",
     "output_type": "stream",
     "text": [
      "Skipping, found downloaded files in \".\\tweets-of-us-senators\" (use force=True to force download)\n"
     ]
    }
   ],
   "source": [
    "od.download('https://www.kaggle.com/rishidamarla/tweets-of-us-senators')"
   ]
  },
  {
   "cell_type": "code",
   "execution_count": 151,
   "metadata": {},
   "outputs": [],
   "source": [
    "df = pd.read_csv(r\"C:/Users/elape/ReviewPython/untitled1/tweets-of-us-senators/senators.csv\",encoding='latin-1')"
   ]
  },
  {
   "cell_type": "markdown",
   "metadata": {},
   "source": [
    "Let's take a look at the data we have:"
   ]
  },
  {
   "cell_type": "code",
   "execution_count": 152,
   "metadata": {},
   "outputs": [
    {
     "data": {
      "text/html": [
       "<div>\n",
       "<style scoped>\n",
       "    .dataframe tbody tr th:only-of-type {\n",
       "        vertical-align: middle;\n",
       "    }\n",
       "\n",
       "    .dataframe tbody tr th {\n",
       "        vertical-align: top;\n",
       "    }\n",
       "\n",
       "    .dataframe thead th {\n",
       "        text-align: right;\n",
       "    }\n",
       "</style>\n",
       "<table border=\"1\" class=\"dataframe\">\n",
       "  <thead>\n",
       "    <tr style=\"text-align: right;\">\n",
       "      <th></th>\n",
       "      <th>created_at</th>\n",
       "      <th>text</th>\n",
       "      <th>url</th>\n",
       "      <th>replies</th>\n",
       "      <th>retweets</th>\n",
       "      <th>favorites</th>\n",
       "      <th>user</th>\n",
       "      <th>bioguide_id</th>\n",
       "      <th>party</th>\n",
       "      <th>state</th>\n",
       "    </tr>\n",
       "  </thead>\n",
       "  <tbody>\n",
       "    <tr>\n",
       "      <td>0</td>\n",
       "      <td>10/19/17 21:47</td>\n",
       "      <td>We released bipartisan healthcare bill today &amp;...</td>\n",
       "      <td>https://twitter.com/amyklobuchar/status/921130...</td>\n",
       "      <td>21</td>\n",
       "      <td>129</td>\n",
       "      <td>533</td>\n",
       "      <td>amyklobuchar</td>\n",
       "      <td>K000367</td>\n",
       "      <td>D</td>\n",
       "      <td>MN</td>\n",
       "    </tr>\n",
       "    <tr>\n",
       "      <td>1</td>\n",
       "      <td>10/19/17 18:48</td>\n",
       "      <td>I spoke with @Morning_Joe team abt #HonestAds ...</td>\n",
       "      <td>https://twitter.com/amyklobuchar/status/921085...</td>\n",
       "      <td>8</td>\n",
       "      <td>46</td>\n",
       "      <td>150</td>\n",
       "      <td>amyklobuchar</td>\n",
       "      <td>K000367</td>\n",
       "      <td>D</td>\n",
       "      <td>MN</td>\n",
       "    </tr>\n",
       "    <tr>\n",
       "      <td>2</td>\n",
       "      <td>10/19/17 18:14</td>\n",
       "      <td>Lots of interest in my bill with Senators Warn...</td>\n",
       "      <td>https://twitter.com/amyklobuchar/status/921077...</td>\n",
       "      <td>36</td>\n",
       "      <td>227</td>\n",
       "      <td>932</td>\n",
       "      <td>amyklobuchar</td>\n",
       "      <td>K000367</td>\n",
       "      <td>D</td>\n",
       "      <td>MN</td>\n",
       "    </tr>\n",
       "    <tr>\n",
       "      <td>3</td>\n",
       "      <td>10/19/17 18:04</td>\n",
       "      <td>Today's the day @MarkWarner, @SenJohnMcCain &amp;a...</td>\n",
       "      <td>https://twitter.com/amyklobuchar/status/921074...</td>\n",
       "      <td>17</td>\n",
       "      <td>167</td>\n",
       "      <td>550</td>\n",
       "      <td>amyklobuchar</td>\n",
       "      <td>K000367</td>\n",
       "      <td>D</td>\n",
       "      <td>MN</td>\n",
       "    </tr>\n",
       "    <tr>\n",
       "      <td>4</td>\n",
       "      <td>10/19/17 16:33</td>\n",
       "      <td>.@MarkWarner, @SenJohnMcCain &amp;amp; I put toget...</td>\n",
       "      <td>https://twitter.com/amyklobuchar/status/921051...</td>\n",
       "      <td>31</td>\n",
       "      <td>279</td>\n",
       "      <td>893</td>\n",
       "      <td>amyklobuchar</td>\n",
       "      <td>K000367</td>\n",
       "      <td>D</td>\n",
       "      <td>MN</td>\n",
       "    </tr>\n",
       "  </tbody>\n",
       "</table>\n",
       "</div>"
      ],
      "text/plain": [
       "       created_at                                               text  \\\n",
       "0  10/19/17 21:47  We released bipartisan healthcare bill today &...   \n",
       "1  10/19/17 18:48  I spoke with @Morning_Joe team abt #HonestAds ...   \n",
       "2  10/19/17 18:14  Lots of interest in my bill with Senators Warn...   \n",
       "3  10/19/17 18:04  Today's the day @MarkWarner, @SenJohnMcCain &a...   \n",
       "4  10/19/17 16:33  .@MarkWarner, @SenJohnMcCain &amp; I put toget...   \n",
       "\n",
       "                                                 url  replies  retweets  \\\n",
       "0  https://twitter.com/amyklobuchar/status/921130...       21       129   \n",
       "1  https://twitter.com/amyklobuchar/status/921085...        8        46   \n",
       "2  https://twitter.com/amyklobuchar/status/921077...       36       227   \n",
       "3  https://twitter.com/amyklobuchar/status/921074...       17       167   \n",
       "4  https://twitter.com/amyklobuchar/status/921051...       31       279   \n",
       "\n",
       "   favorites          user bioguide_id party state  \n",
       "0        533  amyklobuchar     K000367     D    MN  \n",
       "1        150  amyklobuchar     K000367     D    MN  \n",
       "2        932  amyklobuchar     K000367     D    MN  \n",
       "3        550  amyklobuchar     K000367     D    MN  \n",
       "4        893  amyklobuchar     K000367     D    MN  "
      ]
     },
     "execution_count": 152,
     "metadata": {},
     "output_type": "execute_result"
    }
   ],
   "source": [
    "df.head()"
   ]
  },
  {
   "cell_type": "code",
   "execution_count": 24,
   "metadata": {},
   "outputs": [
    {
     "name": "stdout",
     "output_type": "stream",
     "text": [
      "<class 'pandas.core.frame.DataFrame'>\n",
      "RangeIndex: 288615 entries, 0 to 288614\n",
      "Data columns (total 10 columns):\n",
      "created_at     288615 non-null object\n",
      "text           288615 non-null object\n",
      "url            288615 non-null object\n",
      "replies        288615 non-null int64\n",
      "retweets       288615 non-null int64\n",
      "favorites      288615 non-null int64\n",
      "user           288615 non-null object\n",
      "bioguide_id    288615 non-null object\n",
      "party          288615 non-null object\n",
      "state          288615 non-null object\n",
      "dtypes: int64(3), object(7)\n",
      "memory usage: 22.0+ MB\n"
     ]
    }
   ],
   "source": [
    "df.info()"
   ]
  },
  {
   "cell_type": "markdown",
   "metadata": {},
   "source": [
    "Looking at the cell above we see that we get the following data info: \n",
    "1. when the tweet was made\n",
    "2. what the tweet was\n",
    "3. how many replies it got\n",
    "4. how many times it got retweeted\n",
    "5. how many times it was liked\n",
    "6. who the user is\n",
    "7. their bioguide id\n",
    "8. their respected party\n",
    "9. and the state they represent"
   ]
  },
  {
   "cell_type": "markdown",
   "metadata": {},
   "source": [
    "Since this dataset includes hundreds of thousands of tweets from current and past US senators during their tenure, we can look up some of the old tweets of current vice-president @KamalaHarris."
   ]
  },
  {
   "cell_type": "code",
   "execution_count": 63,
   "metadata": {},
   "outputs": [
    {
     "data": {
      "text/html": [
       "<div>\n",
       "<style scoped>\n",
       "    .dataframe tbody tr th:only-of-type {\n",
       "        vertical-align: middle;\n",
       "    }\n",
       "\n",
       "    .dataframe tbody tr th {\n",
       "        vertical-align: top;\n",
       "    }\n",
       "\n",
       "    .dataframe thead th {\n",
       "        text-align: right;\n",
       "    }\n",
       "</style>\n",
       "<table border=\"1\" class=\"dataframe\">\n",
       "  <thead>\n",
       "    <tr style=\"text-align: right;\">\n",
       "      <th></th>\n",
       "      <th>created_at</th>\n",
       "      <th>text</th>\n",
       "      <th>url</th>\n",
       "      <th>replies</th>\n",
       "      <th>retweets</th>\n",
       "      <th>favorites</th>\n",
       "      <th>user</th>\n",
       "      <th>bioguide_id</th>\n",
       "      <th>party</th>\n",
       "      <th>state</th>\n",
       "    </tr>\n",
       "  </thead>\n",
       "  <tbody>\n",
       "    <tr>\n",
       "      <td>219131</td>\n",
       "      <td>10/19/17 23:21</td>\n",
       "      <td>Happy Diwali! May the victory of light over da...</td>\n",
       "      <td>https://twitter.com/SenKamalaHarris/status/921...</td>\n",
       "      <td>39</td>\n",
       "      <td>542</td>\n",
       "      <td>2416</td>\n",
       "      <td>SenKamalaHarris</td>\n",
       "      <td>H001075</td>\n",
       "      <td>D</td>\n",
       "      <td>CA</td>\n",
       "    </tr>\n",
       "    <tr>\n",
       "      <td>219132</td>\n",
       "      <td>10/19/17 21:33</td>\n",
       "      <td>The perfect early birthday surprise in the off...</td>\n",
       "      <td>https://twitter.com/SenKamalaHarris/status/921...</td>\n",
       "      <td>82</td>\n",
       "      <td>108</td>\n",
       "      <td>1188</td>\n",
       "      <td>SenKamalaHarris</td>\n",
       "      <td>H001075</td>\n",
       "      <td>D</td>\n",
       "      <td>CA</td>\n",
       "    </tr>\n",
       "    <tr>\n",
       "      <td>219133</td>\n",
       "      <td>10/19/17 21:04</td>\n",
       "      <td>Hereäó»s why it was so important to pass the C...</td>\n",
       "      <td>https://twitter.com/SenKamalaHarris/status/921...</td>\n",
       "      <td>15</td>\n",
       "      <td>174</td>\n",
       "      <td>516</td>\n",
       "      <td>SenKamalaHarris</td>\n",
       "      <td>H001075</td>\n",
       "      <td>D</td>\n",
       "      <td>CA</td>\n",
       "    </tr>\n",
       "    <tr>\n",
       "      <td>219134</td>\n",
       "      <td>10/19/17 16:26</td>\n",
       "      <td>We owe Gold Star families the thanks of a grat...</td>\n",
       "      <td>https://twitter.com/SenKamalaHarris/status/921...</td>\n",
       "      <td>100</td>\n",
       "      <td>2180</td>\n",
       "      <td>9386</td>\n",
       "      <td>SenKamalaHarris</td>\n",
       "      <td>H001075</td>\n",
       "      <td>D</td>\n",
       "      <td>CA</td>\n",
       "    </tr>\n",
       "    <tr>\n",
       "      <td>219135</td>\n",
       "      <td>10/18/17 21:41</td>\n",
       "      <td>RT @SenCortezMasto: HAPPENING SOON: I will be ...</td>\n",
       "      <td>https://twitter.com/SenKamalaHarris/status/920...</td>\n",
       "      <td>17</td>\n",
       "      <td>66</td>\n",
       "      <td>201</td>\n",
       "      <td>SenKamalaHarris</td>\n",
       "      <td>H001075</td>\n",
       "      <td>D</td>\n",
       "      <td>CA</td>\n",
       "    </tr>\n",
       "  </tbody>\n",
       "</table>\n",
       "</div>"
      ],
      "text/plain": [
       "            created_at                                               text  \\\n",
       "219131  10/19/17 23:21  Happy Diwali! May the victory of light over da...   \n",
       "219132  10/19/17 21:33  The perfect early birthday surprise in the off...   \n",
       "219133  10/19/17 21:04  Hereäó»s why it was so important to pass the C...   \n",
       "219134  10/19/17 16:26  We owe Gold Star families the thanks of a grat...   \n",
       "219135  10/18/17 21:41  RT @SenCortezMasto: HAPPENING SOON: I will be ...   \n",
       "\n",
       "                                                      url  replies  retweets  \\\n",
       "219131  https://twitter.com/SenKamalaHarris/status/921...       39       542   \n",
       "219132  https://twitter.com/SenKamalaHarris/status/921...       82       108   \n",
       "219133  https://twitter.com/SenKamalaHarris/status/921...       15       174   \n",
       "219134  https://twitter.com/SenKamalaHarris/status/921...      100      2180   \n",
       "219135  https://twitter.com/SenKamalaHarris/status/920...       17        66   \n",
       "\n",
       "        favorites             user bioguide_id party state  \n",
       "219131       2416  SenKamalaHarris     H001075     D    CA  \n",
       "219132       1188  SenKamalaHarris     H001075     D    CA  \n",
       "219133        516  SenKamalaHarris     H001075     D    CA  \n",
       "219134       9386  SenKamalaHarris     H001075     D    CA  \n",
       "219135        201  SenKamalaHarris     H001075     D    CA  "
      ]
     },
     "execution_count": 63,
     "metadata": {},
     "output_type": "execute_result"
    }
   ],
   "source": [
    "df[df['user']==\"SenKamalaHarris\"].head()"
   ]
  },
  {
   "cell_type": "markdown",
   "metadata": {},
   "source": [
    "Let's see which party is more present on Twitter:"
   ]
  },
  {
   "cell_type": "code",
   "execution_count": 36,
   "metadata": {},
   "outputs": [
    {
     "data": {
      "text/plain": [
       "'R'"
      ]
     },
     "execution_count": 36,
     "metadata": {},
     "output_type": "execute_result"
    }
   ],
   "source": [
    "df['party'].max()"
   ]
  },
  {
   "cell_type": "markdown",
   "metadata": {},
   "source": [
    "'R' would represent the republican party!"
   ]
  },
  {
   "cell_type": "markdown",
   "metadata": {},
   "source": [
    "Let's see the senators! (..and how much they tweet eh.)"
   ]
  },
  {
   "cell_type": "code",
   "execution_count": 62,
   "metadata": {},
   "outputs": [
    {
     "data": {
      "text/plain": [
       "Text(0.5, 1.0, 'tweets by senator')"
      ]
     },
     "execution_count": 62,
     "metadata": {},
     "output_type": "execute_result"
    },
    {
     "data": {
      "image/png": "[encoded data removed]",
      "text/plain": [
       "<Figure size 1296x360 with 1 Axes>"
      ]
     },
     "metadata": {
      "needs_background": "light"
     },
     "output_type": "display_data"
    }
   ],
   "source": [
    "plt.figure(figsize=(18,5))\n",
    "sns.countplot(df['user'])\n",
    "plt.xticks(rotation=90)\n",
    "plt.title('tweets by senator',fontsize=20)"
   ]
  },
  {
   "cell_type": "markdown",
   "metadata": {},
   "source": [
    "What was the average amount of retweets of US senators's tweets?"
   ]
  },
  {
   "cell_type": "code",
   "execution_count": 54,
   "metadata": {},
   "outputs": [
    {
     "data": {
      "text/plain": [
       "user             party\n",
       "SenMurphyOffice  D           1.282663\n",
       "SenatorRounds    R           5.702083\n",
       "SenJohnHoeven    R           5.758454\n",
       "JohnBoozman      R           6.301775\n",
       "SenCapito        R           6.574984\n",
       "                             ...     \n",
       "SenatorLeahy     D        1432.857633\n",
       "SenKamalaHarris  D        1687.795683\n",
       "SenWarren        D        1955.387274\n",
       "SenCortezMasto   D        2164.965854\n",
       "SenSanders       I        4700.479205\n",
       "Name: retweets, Length: 100, dtype: float64"
      ]
     },
     "execution_count": 54,
     "metadata": {},
     "output_type": "execute_result"
    }
   ],
   "source": [
    "df.groupby(['user','party'])['retweets'].mean().sort_values()"
   ]
  },
  {
   "cell_type": "markdown",
   "metadata": {},
   "source": [
    "Seems like Senator Sanders would get the most retweets on his tweets on average. Who had the most tweets so far?"
   ]
  },
  {
   "cell_type": "code",
   "execution_count": 73,
   "metadata": {},
   "outputs": [
    {
     "data": {
      "text/plain": [
       "user            party\n",
       "SenatorFischer  R        3247\n",
       "Name: text, dtype: int64"
      ]
     },
     "execution_count": 73,
     "metadata": {},
     "output_type": "execute_result"
    }
   ],
   "source": [
    "df.groupby(['user','party'])['text'].count().sort_values(ascending=False).head(1)"
   ]
  },
  {
   "cell_type": "markdown",
   "metadata": {},
   "source": [
    "Deb Fischer is the US Senator of Nebraska. Since this dataset has only tweets until the end of 2017, let's take a look at tweets made during that year:"
   ]
  },
  {
   "cell_type": "code",
   "execution_count": 144,
   "metadata": {},
   "outputs": [
    {
     "data": {
      "text/html": [
       "<div>\n",
       "<style scoped>\n",
       "    .dataframe tbody tr th:only-of-type {\n",
       "        vertical-align: middle;\n",
       "    }\n",
       "\n",
       "    .dataframe tbody tr th {\n",
       "        vertical-align: top;\n",
       "    }\n",
       "\n",
       "    .dataframe thead th {\n",
       "        text-align: right;\n",
       "    }\n",
       "</style>\n",
       "<table border=\"1\" class=\"dataframe\">\n",
       "  <thead>\n",
       "    <tr style=\"text-align: right;\">\n",
       "      <th></th>\n",
       "      <th>created_at</th>\n",
       "      <th>text</th>\n",
       "      <th>url</th>\n",
       "      <th>replies</th>\n",
       "      <th>retweets</th>\n",
       "      <th>favorites</th>\n",
       "      <th>user</th>\n",
       "      <th>bioguide_id</th>\n",
       "      <th>party</th>\n",
       "      <th>state</th>\n",
       "    </tr>\n",
       "  </thead>\n",
       "  <tbody>\n",
       "    <tr>\n",
       "      <td>0</td>\n",
       "      <td>10/19/17 21:47</td>\n",
       "      <td>We released bipartisan healthcare bill today &amp;...</td>\n",
       "      <td>https://twitter.com/amyklobuchar/status/921130...</td>\n",
       "      <td>21</td>\n",
       "      <td>129</td>\n",
       "      <td>533</td>\n",
       "      <td>amyklobuchar</td>\n",
       "      <td>K000367</td>\n",
       "      <td>D</td>\n",
       "      <td>MN</td>\n",
       "    </tr>\n",
       "    <tr>\n",
       "      <td>1</td>\n",
       "      <td>10/19/17 18:48</td>\n",
       "      <td>I spoke with @Morning_Joe team abt #HonestAds ...</td>\n",
       "      <td>https://twitter.com/amyklobuchar/status/921085...</td>\n",
       "      <td>8</td>\n",
       "      <td>46</td>\n",
       "      <td>150</td>\n",
       "      <td>amyklobuchar</td>\n",
       "      <td>K000367</td>\n",
       "      <td>D</td>\n",
       "      <td>MN</td>\n",
       "    </tr>\n",
       "    <tr>\n",
       "      <td>2</td>\n",
       "      <td>10/19/17 18:14</td>\n",
       "      <td>Lots of interest in my bill with Senators Warn...</td>\n",
       "      <td>https://twitter.com/amyklobuchar/status/921077...</td>\n",
       "      <td>36</td>\n",
       "      <td>227</td>\n",
       "      <td>932</td>\n",
       "      <td>amyklobuchar</td>\n",
       "      <td>K000367</td>\n",
       "      <td>D</td>\n",
       "      <td>MN</td>\n",
       "    </tr>\n",
       "    <tr>\n",
       "      <td>3</td>\n",
       "      <td>10/19/17 18:04</td>\n",
       "      <td>Today's the day @MarkWarner, @SenJohnMcCain &amp;a...</td>\n",
       "      <td>https://twitter.com/amyklobuchar/status/921074...</td>\n",
       "      <td>17</td>\n",
       "      <td>167</td>\n",
       "      <td>550</td>\n",
       "      <td>amyklobuchar</td>\n",
       "      <td>K000367</td>\n",
       "      <td>D</td>\n",
       "      <td>MN</td>\n",
       "    </tr>\n",
       "    <tr>\n",
       "      <td>4</td>\n",
       "      <td>10/19/17 16:33</td>\n",
       "      <td>.@MarkWarner, @SenJohnMcCain &amp;amp; I put toget...</td>\n",
       "      <td>https://twitter.com/amyklobuchar/status/921051...</td>\n",
       "      <td>31</td>\n",
       "      <td>279</td>\n",
       "      <td>893</td>\n",
       "      <td>amyklobuchar</td>\n",
       "      <td>K000367</td>\n",
       "      <td>D</td>\n",
       "      <td>MN</td>\n",
       "    </tr>\n",
       "  </tbody>\n",
       "</table>\n",
       "</div>"
      ],
      "text/plain": [
       "       created_at                                               text  \\\n",
       "0  10/19/17 21:47  We released bipartisan healthcare bill today &...   \n",
       "1  10/19/17 18:48  I spoke with @Morning_Joe team abt #HonestAds ...   \n",
       "2  10/19/17 18:14  Lots of interest in my bill with Senators Warn...   \n",
       "3  10/19/17 18:04  Today's the day @MarkWarner, @SenJohnMcCain &a...   \n",
       "4  10/19/17 16:33  .@MarkWarner, @SenJohnMcCain &amp; I put toget...   \n",
       "\n",
       "                                                 url  replies  retweets  \\\n",
       "0  https://twitter.com/amyklobuchar/status/921130...       21       129   \n",
       "1  https://twitter.com/amyklobuchar/status/921085...        8        46   \n",
       "2  https://twitter.com/amyklobuchar/status/921077...       36       227   \n",
       "3  https://twitter.com/amyklobuchar/status/921074...       17       167   \n",
       "4  https://twitter.com/amyklobuchar/status/921051...       31       279   \n",
       "\n",
       "   favorites          user bioguide_id party state  \n",
       "0        533  amyklobuchar     K000367     D    MN  \n",
       "1        150  amyklobuchar     K000367     D    MN  \n",
       "2        932  amyklobuchar     K000367     D    MN  \n",
       "3        550  amyklobuchar     K000367     D    MN  \n",
       "4        893  amyklobuchar     K000367     D    MN  "
      ]
     },
     "execution_count": 144,
     "metadata": {},
     "output_type": "execute_result"
    }
   ],
   "source": [
    "year_17 = df[df['created_at'].apply(lambda x: x[6:8] == '17')].head()\n",
    "year_17"
   ]
  },
  {
   "cell_type": "markdown",
   "metadata": {},
   "source": [
    "Now we can look at which tweets got the most retweets in year 2017."
   ]
  },
  {
   "cell_type": "code",
   "execution_count": 124,
   "metadata": {},
   "outputs": [
    {
     "data": {
      "text/html": [
       "<div>\n",
       "<style scoped>\n",
       "    .dataframe tbody tr th:only-of-type {\n",
       "        vertical-align: middle;\n",
       "    }\n",
       "\n",
       "    .dataframe tbody tr th {\n",
       "        vertical-align: top;\n",
       "    }\n",
       "\n",
       "    .dataframe thead th {\n",
       "        text-align: right;\n",
       "    }\n",
       "</style>\n",
       "<table border=\"1\" class=\"dataframe\">\n",
       "  <thead>\n",
       "    <tr style=\"text-align: right;\">\n",
       "      <th></th>\n",
       "      <th>created_at</th>\n",
       "      <th>text</th>\n",
       "      <th>url</th>\n",
       "      <th>replies</th>\n",
       "      <th>retweets</th>\n",
       "      <th>favorites</th>\n",
       "      <th>user</th>\n",
       "      <th>bioguide_id</th>\n",
       "      <th>party</th>\n",
       "      <th>state</th>\n",
       "    </tr>\n",
       "  </thead>\n",
       "  <tbody>\n",
       "    <tr>\n",
       "      <td>129663</td>\n",
       "      <td>10/10/17 20:59</td>\n",
       "      <td>RT @Malala: 5 years ago, I was shot in an atte...</td>\n",
       "      <td>https://twitter.com/SenatorShaheen/status/9178...</td>\n",
       "      <td>11053</td>\n",
       "      <td>356284</td>\n",
       "      <td>1156950</td>\n",
       "      <td>SenatorShaheen</td>\n",
       "      <td>S001181</td>\n",
       "      <td>D</td>\n",
       "      <td>NH</td>\n",
       "    </tr>\n",
       "    <tr>\n",
       "      <td>120448</td>\n",
       "      <td>10/17/17 2:39</td>\n",
       "      <td>RT @BarackObama: I'm grateful to @SenJohnMcCai...</td>\n",
       "      <td>https://twitter.com/SenatorLeahy/status/920116...</td>\n",
       "      <td>17142</td>\n",
       "      <td>90043</td>\n",
       "      <td>643181</td>\n",
       "      <td>SenatorLeahy</td>\n",
       "      <td>L000174</td>\n",
       "      <td>D</td>\n",
       "      <td>VT</td>\n",
       "    </tr>\n",
       "    <tr>\n",
       "      <td>219158</td>\n",
       "      <td>10/17/17 16:10</td>\n",
       "      <td>The deadliest mass shooting in our countryäó»s...</td>\n",
       "      <td>https://twitter.com/SenKamalaHarris/status/920...</td>\n",
       "      <td>2005</td>\n",
       "      <td>51728</td>\n",
       "      <td>144919</td>\n",
       "      <td>SenKamalaHarris</td>\n",
       "      <td>H001075</td>\n",
       "      <td>D</td>\n",
       "      <td>CA</td>\n",
       "    </tr>\n",
       "    <tr>\n",
       "      <td>243917</td>\n",
       "      <td>10/12/17 17:29</td>\n",
       "      <td>We looked into it, @realDonaldTrump. Itäó»s ca...</td>\n",
       "      <td>https://twitter.com/SenSanders/status/91852919...</td>\n",
       "      <td>2298</td>\n",
       "      <td>46738</td>\n",
       "      <td>132443</td>\n",
       "      <td>SenSanders</td>\n",
       "      <td>S000033</td>\n",
       "      <td>I</td>\n",
       "      <td>VT</td>\n",
       "    </tr>\n",
       "    <tr>\n",
       "      <td>211092</td>\n",
       "      <td>10/17/17 1:23</td>\n",
       "      <td>To refuse US leadership for half-baked nationa...</td>\n",
       "      <td>https://twitter.com/SenJohnMcCain/status/92009...</td>\n",
       "      <td>3881</td>\n",
       "      <td>30393</td>\n",
       "      <td>74929</td>\n",
       "      <td>SenJohnMcCain</td>\n",
       "      <td>M000303</td>\n",
       "      <td>R</td>\n",
       "      <td>AZ</td>\n",
       "    </tr>\n",
       "  </tbody>\n",
       "</table>\n",
       "</div>"
      ],
      "text/plain": [
       "            created_at                                               text  \\\n",
       "129663  10/10/17 20:59  RT @Malala: 5 years ago, I was shot in an atte...   \n",
       "120448   10/17/17 2:39  RT @BarackObama: I'm grateful to @SenJohnMcCai...   \n",
       "219158  10/17/17 16:10  The deadliest mass shooting in our countryäó»s...   \n",
       "243917  10/12/17 17:29  We looked into it, @realDonaldTrump. Itäó»s ca...   \n",
       "211092   10/17/17 1:23  To refuse US leadership for half-baked nationa...   \n",
       "\n",
       "                                                      url  replies  retweets  \\\n",
       "129663  https://twitter.com/SenatorShaheen/status/9178...    11053    356284   \n",
       "120448  https://twitter.com/SenatorLeahy/status/920116...    17142     90043   \n",
       "219158  https://twitter.com/SenKamalaHarris/status/920...     2005     51728   \n",
       "243917  https://twitter.com/SenSanders/status/91852919...     2298     46738   \n",
       "211092  https://twitter.com/SenJohnMcCain/status/92009...     3881     30393   \n",
       "\n",
       "        favorites             user bioguide_id party state  \n",
       "129663    1156950   SenatorShaheen     S001181     D    NH  \n",
       "120448     643181     SenatorLeahy     L000174     D    VT  \n",
       "219158     144919  SenKamalaHarris     H001075     D    CA  \n",
       "243917     132443       SenSanders     S000033     I    VT  \n",
       "211092      74929    SenJohnMcCain     M000303     R    AZ  "
      ]
     },
     "execution_count": 124,
     "metadata": {},
     "output_type": "execute_result"
    }
   ],
   "source": [
    "df[ (df['created_at'].apply(lambda x: x[6:8] == '17'))].sort_values(by='retweets',ascending=False).head()"
   ]
  },
  {
   "cell_type": "markdown",
   "metadata": {},
   "source": [
    "We can also take a look at the tweets from republican senators who got the most retweets in 2017:"
   ]
  },
  {
   "cell_type": "code",
   "execution_count": 153,
   "metadata": {},
   "outputs": [
    {
     "data": {
      "text/html": [
       "<div>\n",
       "<style scoped>\n",
       "    .dataframe tbody tr th:only-of-type {\n",
       "        vertical-align: middle;\n",
       "    }\n",
       "\n",
       "    .dataframe tbody tr th {\n",
       "        vertical-align: top;\n",
       "    }\n",
       "\n",
       "    .dataframe thead th {\n",
       "        text-align: right;\n",
       "    }\n",
       "</style>\n",
       "<table border=\"1\" class=\"dataframe\">\n",
       "  <thead>\n",
       "    <tr style=\"text-align: right;\">\n",
       "      <th></th>\n",
       "      <th>created_at</th>\n",
       "      <th>text</th>\n",
       "      <th>url</th>\n",
       "      <th>replies</th>\n",
       "      <th>retweets</th>\n",
       "      <th>favorites</th>\n",
       "      <th>user</th>\n",
       "      <th>bioguide_id</th>\n",
       "      <th>party</th>\n",
       "      <th>state</th>\n",
       "    </tr>\n",
       "  </thead>\n",
       "  <tbody>\n",
       "    <tr>\n",
       "      <td>211092</td>\n",
       "      <td>10/17/17 1:23</td>\n",
       "      <td>To refuse US leadership for half-baked nationa...</td>\n",
       "      <td>https://twitter.com/SenJohnMcCain/status/92009...</td>\n",
       "      <td>3881</td>\n",
       "      <td>30393</td>\n",
       "      <td>74929</td>\n",
       "      <td>SenJohnMcCain</td>\n",
       "      <td>M000303</td>\n",
       "      <td>R</td>\n",
       "      <td>AZ</td>\n",
       "    </tr>\n",
       "    <tr>\n",
       "      <td>263944</td>\n",
       "      <td>10/13/17 18:12</td>\n",
       "      <td>RT @realDonaldTrump: Today, I announced our st...</td>\n",
       "      <td>https://twitter.com/SenThomTillis/status/91890...</td>\n",
       "      <td>24193</td>\n",
       "      <td>17551</td>\n",
       "      <td>66183</td>\n",
       "      <td>SenThomTillis</td>\n",
       "      <td>T000476</td>\n",
       "      <td>R</td>\n",
       "      <td>NC</td>\n",
       "    </tr>\n",
       "    <tr>\n",
       "      <td>143021</td>\n",
       "      <td>10/11/17 23:50</td>\n",
       "      <td>RT @realDonaldTrump: We need a tax system that...</td>\n",
       "      <td>https://twitter.com/SenatorWicker/status/91826...</td>\n",
       "      <td>11043</td>\n",
       "      <td>12267</td>\n",
       "      <td>56514</td>\n",
       "      <td>SenatorWicker</td>\n",
       "      <td>W000437</td>\n",
       "      <td>R</td>\n",
       "      <td>MS</td>\n",
       "    </tr>\n",
       "    <tr>\n",
       "      <td>211069</td>\n",
       "      <td>10/19/17 18:47</td>\n",
       "      <td>Important speech by my friend, President Georg...</td>\n",
       "      <td>https://twitter.com/SenJohnMcCain/status/92108...</td>\n",
       "      <td>2006</td>\n",
       "      <td>11054</td>\n",
       "      <td>44685</td>\n",
       "      <td>SenJohnMcCain</td>\n",
       "      <td>M000303</td>\n",
       "      <td>R</td>\n",
       "      <td>AZ</td>\n",
       "    </tr>\n",
       "    <tr>\n",
       "      <td>60263</td>\n",
       "      <td>10/10/17 11:55</td>\n",
       "      <td>This will be a great plan &amp;amp; a big deal for...</td>\n",
       "      <td>https://twitter.com/RandPaul/status/9177201530...</td>\n",
       "      <td>2081</td>\n",
       "      <td>10852</td>\n",
       "      <td>27051</td>\n",
       "      <td>RandPaul</td>\n",
       "      <td>P000603</td>\n",
       "      <td>R</td>\n",
       "      <td>KY</td>\n",
       "    </tr>\n",
       "  </tbody>\n",
       "</table>\n",
       "</div>"
      ],
      "text/plain": [
       "            created_at                                               text  \\\n",
       "211092   10/17/17 1:23  To refuse US leadership for half-baked nationa...   \n",
       "263944  10/13/17 18:12  RT @realDonaldTrump: Today, I announced our st...   \n",
       "143021  10/11/17 23:50  RT @realDonaldTrump: We need a tax system that...   \n",
       "211069  10/19/17 18:47  Important speech by my friend, President Georg...   \n",
       "60263   10/10/17 11:55  This will be a great plan &amp; a big deal for...   \n",
       "\n",
       "                                                      url  replies  retweets  \\\n",
       "211092  https://twitter.com/SenJohnMcCain/status/92009...     3881     30393   \n",
       "263944  https://twitter.com/SenThomTillis/status/91890...    24193     17551   \n",
       "143021  https://twitter.com/SenatorWicker/status/91826...    11043     12267   \n",
       "211069  https://twitter.com/SenJohnMcCain/status/92108...     2006     11054   \n",
       "60263   https://twitter.com/RandPaul/status/9177201530...     2081     10852   \n",
       "\n",
       "        favorites           user bioguide_id party state  \n",
       "211092      74929  SenJohnMcCain     M000303     R    AZ  \n",
       "263944      66183  SenThomTillis     T000476     R    NC  \n",
       "143021      56514  SenatorWicker     W000437     R    MS  \n",
       "211069      44685  SenJohnMcCain     M000303     R    AZ  \n",
       "60263       27051       RandPaul     P000603     R    KY  "
      ]
     },
     "execution_count": 153,
     "metadata": {},
     "output_type": "execute_result"
    }
   ],
   "source": [
    "df[ (df['created_at'].apply(lambda x: x[6:8] == '17')) & (df['party'] == 'R')].sort_values(by='retweets',ascending=False).head()"
   ]
  },
  {
   "cell_type": "markdown",
   "metadata": {},
   "source": [
    "Now let's look at the average replies, retweets and liked tweets from different parties - D, R, I(independent) received:"
   ]
  },
  {
   "cell_type": "code",
   "execution_count": 143,
   "metadata": {},
   "outputs": [
    {
     "data": {
      "text/html": [
       "<div>\n",
       "<style scoped>\n",
       "    .dataframe tbody tr th:only-of-type {\n",
       "        vertical-align: middle;\n",
       "    }\n",
       "\n",
       "    .dataframe tbody tr th {\n",
       "        vertical-align: top;\n",
       "    }\n",
       "\n",
       "    .dataframe thead th {\n",
       "        text-align: right;\n",
       "    }\n",
       "</style>\n",
       "<table border=\"1\" class=\"dataframe\">\n",
       "  <thead>\n",
       "    <tr style=\"text-align: right;\">\n",
       "      <th></th>\n",
       "      <th>replies</th>\n",
       "      <th>retweets</th>\n",
       "      <th>favorites</th>\n",
       "    </tr>\n",
       "    <tr>\n",
       "      <th>party</th>\n",
       "      <th></th>\n",
       "      <th></th>\n",
       "      <th></th>\n",
       "    </tr>\n",
       "  </thead>\n",
       "  <tbody>\n",
       "    <tr>\n",
       "      <td>D</td>\n",
       "      <td>39.165525</td>\n",
       "      <td>332.178694</td>\n",
       "      <td>739.269058</td>\n",
       "    </tr>\n",
       "    <tr>\n",
       "      <td>I</td>\n",
       "      <td>220.096563</td>\n",
       "      <td>2427.410871</td>\n",
       "      <td>6395.941807</td>\n",
       "    </tr>\n",
       "    <tr>\n",
       "      <td>R</td>\n",
       "      <td>36.827472</td>\n",
       "      <td>78.405263</td>\n",
       "      <td>195.843927</td>\n",
       "    </tr>\n",
       "  </tbody>\n",
       "</table>\n",
       "</div>"
      ],
      "text/plain": [
       "          replies     retweets    favorites\n",
       "party                                      \n",
       "D       39.165525   332.178694   739.269058\n",
       "I      220.096563  2427.410871  6395.941807\n",
       "R       36.827472    78.405263   195.843927"
      ]
     },
     "execution_count": 143,
     "metadata": {},
     "output_type": "execute_result"
    }
   ],
   "source": [
    "pie_chart = df.groupby(['party'])[['replies', 'retweets', 'favorites']].mean()\n",
    "pie_chart"
   ]
  },
  {
   "cell_type": "code",
   "execution_count": 141,
   "metadata": {},
   "outputs": [
    {
     "data": {
      "text/plain": [
       "array([<matplotlib.axes._subplots.AxesSubplot object at 0x00000282AB564EC8>,\n",
       "       <matplotlib.axes._subplots.AxesSubplot object at 0x00000282AB66B688>,\n",
       "       <matplotlib.axes._subplots.AxesSubplot object at 0x00000282A73B7B08>],\n",
       "      dtype=object)"
      ]
     },
     "execution_count": 141,
     "metadata": {},
     "output_type": "execute_result"
    },
    {
     "data": {
      "image/png": "[encoded data removed]",
      "text/plain": [
       "<Figure size 1296x1440 with 3 Axes>"
      ]
     },
     "metadata": {},
     "output_type": "display_data"
    }
   ],
   "source": [
    "pie_chart.plot.pie(subplots=True,\n",
    "                     figsize=(18, 20), \n",
    "                     autopct='%1.1f%%', \n",
    "                     labels = pie_chart.index)"
   ]
  },
  {
   "cell_type": "markdown",
   "metadata": {},
   "source": [
    "Tweets from the independent party get the most love! When it comes to replies on tweets, republican and democratic senators get around a similar number of replies. When it comes to retweets and likes, republican senators tend to get less of them than democrats do."
   ]
  }
 ],
 "metadata": {
  "kernelspec": {
   "display_name": "Python 3",
   "language": "python",
   "name": "python3"
  },
  "language_info": {
   "codemirror_mode": {
    "name": "ipython",
    "version": 3
   },
   "file_extension": ".py",
   "mimetype": "text/x-python",
   "name": "python",
   "nbconvert_exporter": "python",
   "pygments_lexer": "ipython3",
   "version": "3.7.4"
  },
  "pycharm": {
   "stem_cell": {
    "cell_type": "raw",
    "metadata": {
     "collapsed": false
    },
    "source": []
   }
  }
 },
 "nbformat": 4,
 "nbformat_minor": 1
}
